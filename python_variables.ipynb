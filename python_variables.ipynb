{
 "cells": [
  {
   "cell_type": "code",
   "execution_count": 1,
   "metadata": {},
   "outputs": [
    {
     "name": "stdout",
     "output_type": "stream",
     "text": [
      "<class 'bool'>\n"
     ]
    }
   ],
   "source": [
    "#Obtengo el tipo de clase de una variable inicializada\n",
    "mensaje=True\n",
    "print(type(mensaje))"
   ]
  },
  {
   "cell_type": "code",
   "execution_count": 2,
   "metadata": {},
   "outputs": [
    {
     "name": "stdout",
     "output_type": "stream",
     "text": [
      "La suma de  5 + 6 = 11\n"
     ]
    }
   ],
   "source": [
    "#Suma de 2 numeros\n",
    "variable1 = 5 \n",
    "variable2 = 6 \n",
    "suma = variable1 + variable2 \n",
    "print(\"La suma de \",variable1,\"+\",variable2,\"=\",suma)"
   ]
  },
  {
   "cell_type": "code",
   "execution_count": 3,
   "metadata": {},
   "outputs": [
    {
     "name": "stdout",
     "output_type": "stream",
     "text": [
      "El precio del IVA es 15.0 C$\n",
      "El precio final es 115.0 C$\n"
     ]
    }
   ],
   "source": [
    "#Mostrar el precio del IVA de un producto con un valor de C$100.00 y su precio final. \n",
    "IVA = 0.15\n",
    "precioProducto = 100\n",
    "precioIVA = precioProducto * IVA \n",
    "print(\"El precio del IVA es\", precioIVA, \"C$\") \n",
    "print(\"El precio final es\", (precioIVA+precioProducto) ,\"C$\")"
   ]
  },
  {
   "cell_type": "code",
   "execution_count": 4,
   "metadata": {},
   "outputs": [
    {
     "name": "stdout",
     "output_type": "stream",
     "text": [
      "xxxxx\n"
     ]
    }
   ],
   "source": [
    "#Definir una función generar_n_caracteres() que tome un entero n\n",
    "#devuelva el caracter multiplicado por n. Por ejemplo: generar_n_caracteres(5, \"x\") \n",
    "#debería devolver \"xxxxx\". \n",
    "def generar_n_caracteres (n, caracter):\n",
    "    print (n * caracter)\n",
    "generar_n_caracteres(5,'x')"
   ]
  },
  {
   "cell_type": "code",
   "execution_count": 5,
   "metadata": {},
   "outputs": [
    {
     "name": "stdout",
     "output_type": "stream",
     "text": [
      "Dame la primera cadena: lima\n",
      "Dame la segunda cadena: peru\n",
      "pema liru\n"
     ]
    }
   ],
   "source": [
    "#Pide dos cadenas por teclado, muestra ambas cadenas con un espacio entre ellas\n",
    "#con los 2 primeros caracteres intercambiados. Por ejemplo, hola mundo pasaría a mula hondo.\n",
    "cadena1 = input(\"Dame la primera cadena: \") \n",
    "cadena2 = input(\"Dame la segunda cadena: \") \n",
    "print( cadena2[:2] + cadena1[2:] + \" \" + cadena1[:2] + cadena2[2:] )"
   ]
  },
  {
   "cell_type": "code",
   "execution_count": null,
   "metadata": {},
   "outputs": [],
   "source": []
  }
 ],
 "metadata": {
  "kernelspec": {
   "display_name": "Python 3",
   "language": "python",
   "name": "python3"
  },
  "language_info": {
   "codemirror_mode": {
    "name": "ipython",
    "version": 3
   },
   "file_extension": ".py",
   "mimetype": "text/x-python",
   "name": "python",
   "nbconvert_exporter": "python",
   "pygments_lexer": "ipython3",
   "version": "3.7.3"
  }
 },
 "nbformat": 4,
 "nbformat_minor": 2
}
